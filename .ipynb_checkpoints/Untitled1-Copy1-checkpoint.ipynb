{
 "cells": [
  {
   "cell_type": "code",
   "execution_count": 1,
   "metadata": {},
   "outputs": [
    {
     "name": "stderr",
     "output_type": "stream",
     "text": [
      "/home/ubuntu/anaconda3/envs/tensorflow_p36/lib/python3.6/site-packages/h5py/__init__.py:36: FutureWarning: Conversion of the second argument of issubdtype from `float` to `np.floating` is deprecated. In future, it will be treated as `np.float64 == np.dtype(float).type`.\n",
      "  from ._conv import register_converters as _register_converters\n",
      "Using TensorFlow backend.\n"
     ]
    }
   ],
   "source": [
    "import tensorflow as tf\n",
    "import keras\n",
    "import shutil\n",
    "import os\n",
    "import random\n",
    "import numpy as np"
   ]
  },
  {
   "cell_type": "code",
   "execution_count": 2,
   "metadata": {},
   "outputs": [],
   "source": [
    "from keras.models import Sequential\n",
    "from keras.layers import Convolution2D, MaxPooling2D\n",
    "from keras.layers import Activation, Dropout, Flatten, Dense\n",
    "from keras.applications import vgg16\n",
    "from keras.layers import Input\n",
    "from keras.preprocessing.image import ImageDataGenerator, img_to_array, load_img\n",
    "from keras import optimizers"
   ]
  },
  {
   "cell_type": "code",
   "execution_count": 3,
   "metadata": {},
   "outputs": [],
   "source": [
    "dir_list = ['./train_cls/cat',\n",
    "            './train_cls/dog',\n",
    "            './test_cls/cat',\n",
    "            './test_cls/dog']\n",
    "for dir_path in dir_list:\n",
    "    try:\n",
    "        os.makedirs(dir_path)\n",
    "    except:\n",
    "        pass"
   ]
  },
  {
   "cell_type": "code",
   "execution_count": 4,
   "metadata": {},
   "outputs": [],
   "source": [
    "# 将猫狗图片分成两个文件夹\n",
    "\n",
    "file_root = os.getcwd() + '/train/'\n",
    "\n",
    "train_cat_file_path = os.getcwd() + '/train_cls/cat/'\n",
    "train_dog_file_path = os.getcwd() + '/train_cls/dog/'\n",
    "\n",
    "test_cat_file_path = os.getcwd() + '/test_cls/cat/' \n",
    "test_dog_file_path = os.getcwd() + '/test_cls/dog/'\n",
    "\n",
    "\n",
    "file_name_list = list(os.walk('./train'))[0][2]\n",
    "random.shuffle(file_name_list)\n",
    "\n",
    "data_size = len(file_name_list)\n",
    "train_size = int(data_size * 0.8)\n",
    "\n",
    "def classify_cats_and_dogs(root_path, file_name_list, dog_file_path, cat_file_path):\n",
    "    for name in file_name_list:\n",
    "        if name[:3] == 'dog':\n",
    "            os.symlink(root_path + name, dog_file_path + name)\n",
    "        elif name[:3] == 'cat':\n",
    "            os.symlink(root_path + name, cat_file_path + name)\n",
    "        else:\n",
    "            pass\n",
    "    "
   ]
  },
  {
   "cell_type": "code",
   "execution_count": 6,
   "metadata": {},
   "outputs": [],
   "source": [
    "# AWS上执行\n",
    "\n",
    "# 训练集\n",
    "classify_cats_and_dogs(file_root, file_name_list[:train_size],\n",
    "                       train_dog_file_path, train_cat_file_path)\n",
    "\n",
    "# 测试集\n",
    "classify_cats_and_dogs(file_root, file_name_list[train_size:],\n",
    "                       test_dog_file_path, test_cat_file_path)"
   ]
  },
  {
   "cell_type": "code",
   "execution_count": 33,
   "metadata": {},
   "outputs": [],
   "source": [
    "# 本地调试代码的时候用比较少的样本调试才执行\n",
    "local_train_cat_path = './local_train/cat/'\n",
    "local_train_dog_path = './local_train/dog/'\n",
    "\n",
    "local_test_cat_path = './local_test/cat/'\n",
    "local_test_dog_path = './local_test/dog/'\n",
    "\n",
    "local_dir_list = [local_train_cat_path,\n",
    "                  local_train_dog_path,\n",
    "                  local_test_cat_path,\n",
    "                  local_test_dog_path]\n",
    "\n",
    "for dir_path in local_dir_list:\n",
    "    try:\n",
    "        os.makedirs(dir_path)\n",
    "    except:\n",
    "        pass\n",
    "\n",
    "\n",
    "# 在本地的机子，先拿1500条的数据进行调通\n",
    "local_train_cat_list = list(os.walk(train_cat_file_path))[0][2][:1500]\n",
    "local_train_dog_list = list(os.walk(train_dog_file_path))[0][2][:1500]\n",
    "\n",
    "# 测试拿300\n",
    "local_test_cat_list = list(os.walk(test_cat_file_path))[0][2][:300]\n",
    "local_test_dog_list = list(os.walk(test_dog_file_path))[0][2][:300]\n",
    "\n",
    "classify_cats_and_dogs(file_root, local_train_cat_list, local_train_dog_path, local_train_cat_path)\n",
    "classify_cats_and_dogs(file_root, local_train_dog_list, local_train_dog_path, local_train_cat_path)\n",
    "\n",
    "classify_cats_and_dogs(file_root, local_test_cat_list, local_test_dog_path, local_test_cat_path)\n",
    "classify_cats_and_dogs(file_root, local_test_dog_list, local_test_dog_path, local_test_cat_path)"
   ]
  },
  {
   "cell_type": "code",
   "execution_count": 5,
   "metadata": {},
   "outputs": [
    {
     "name": "stdout",
     "output_type": "stream",
     "text": [
      "_________________________________________________________________\n",
      "Layer (type)                 Output Shape              Param #   \n",
      "=================================================================\n",
      "input_1 (InputLayer)         (None, 224, 224, 3)       0         \n",
      "_________________________________________________________________\n",
      "block1_conv1 (Conv2D)        (None, 224, 224, 64)      1792      \n",
      "_________________________________________________________________\n",
      "block1_conv2 (Conv2D)        (None, 224, 224, 64)      36928     \n",
      "_________________________________________________________________\n",
      "block1_pool (MaxPooling2D)   (None, 112, 112, 64)      0         \n",
      "_________________________________________________________________\n",
      "block2_conv1 (Conv2D)        (None, 112, 112, 128)     73856     \n",
      "_________________________________________________________________\n",
      "block2_conv2 (Conv2D)        (None, 112, 112, 128)     147584    \n",
      "_________________________________________________________________\n",
      "block2_pool (MaxPooling2D)   (None, 56, 56, 128)       0         \n",
      "_________________________________________________________________\n",
      "block3_conv1 (Conv2D)        (None, 56, 56, 256)       295168    \n",
      "_________________________________________________________________\n",
      "block3_conv2 (Conv2D)        (None, 56, 56, 256)       590080    \n",
      "_________________________________________________________________\n",
      "block3_conv3 (Conv2D)        (None, 56, 56, 256)       590080    \n",
      "_________________________________________________________________\n",
      "block3_pool (MaxPooling2D)   (None, 28, 28, 256)       0         \n",
      "_________________________________________________________________\n",
      "block4_conv1 (Conv2D)        (None, 28, 28, 512)       1180160   \n",
      "_________________________________________________________________\n",
      "block4_conv2 (Conv2D)        (None, 28, 28, 512)       2359808   \n",
      "_________________________________________________________________\n",
      "block4_conv3 (Conv2D)        (None, 28, 28, 512)       2359808   \n",
      "_________________________________________________________________\n",
      "block4_pool (MaxPooling2D)   (None, 14, 14, 512)       0         \n",
      "_________________________________________________________________\n",
      "block5_conv1 (Conv2D)        (None, 14, 14, 512)       2359808   \n",
      "_________________________________________________________________\n",
      "block5_conv2 (Conv2D)        (None, 14, 14, 512)       2359808   \n",
      "_________________________________________________________________\n",
      "block5_conv3 (Conv2D)        (None, 14, 14, 512)       2359808   \n",
      "_________________________________________________________________\n",
      "block5_pool (MaxPooling2D)   (None, 7, 7, 512)         0         \n",
      "=================================================================\n",
      "Total params: 14,714,688\n",
      "Trainable params: 14,714,688\n",
      "Non-trainable params: 0\n",
      "_________________________________________________________________\n"
     ]
    }
   ],
   "source": [
    "# input_tensor = vgg16.preprocess_input(Input((224, 224, 3)))\n",
    "\n",
    "original_vgg16_model = vgg16.VGG16(\n",
    "    include_top=False, weights='imagenet',\n",
    "    input_shape=(224, 224, 3),\n",
    "    pooling=None,\n",
    ")\n",
    "\n",
    "original_vgg16_model.summary()"
   ]
  },
  {
   "cell_type": "code",
   "execution_count": 6,
   "metadata": {},
   "outputs": [
    {
     "name": "stdout",
     "output_type": "stream",
     "text": [
      "_________________________________________________________________\n",
      "Layer (type)                 Output Shape              Param #   \n",
      "=================================================================\n",
      "flatten_1 (Flatten)          (None, 25088)             0         \n",
      "_________________________________________________________________\n",
      "dense_1 (Dense)              (None, 256)               6422784   \n",
      "_________________________________________________________________\n",
      "dropout_1 (Dropout)          (None, 256)               0         \n",
      "_________________________________________________________________\n",
      "dense_2 (Dense)              (None, 1)                 257       \n",
      "=================================================================\n",
      "Total params: 6,423,041\n",
      "Trainable params: 6,423,041\n",
      "Non-trainable params: 0\n",
      "_________________________________________________________________\n"
     ]
    }
   ],
   "source": [
    "top_model = Sequential()\n",
    "top_model.add(Flatten(input_shape=original_vgg16_model.output_shape[1:]))\n",
    "top_model.add(Dense(256, activation='relu'))\n",
    "top_model.add(Dropout(0.5))\n",
    "top_model.add(Dense(1, activation='sigmoid'))\n",
    "\n",
    "top_model.summary()"
   ]
  },
  {
   "cell_type": "code",
   "execution_count": 7,
   "metadata": {},
   "outputs": [
    {
     "name": "stdout",
     "output_type": "stream",
     "text": [
      "_________________________________________________________________\n",
      "Layer (type)                 Output Shape              Param #   \n",
      "=================================================================\n",
      "vgg16 (Model)                (None, 7, 7, 512)         14714688  \n",
      "_________________________________________________________________\n",
      "sequential_1 (Sequential)    (None, 1)                 6423041   \n",
      "=================================================================\n",
      "Total params: 21,137,729\n",
      "Trainable params: 21,137,729\n",
      "Non-trainable params: 0\n",
      "_________________________________________________________________\n"
     ]
    }
   ],
   "source": [
    "model = Sequential()\n",
    "model.add(original_vgg16_model)\n",
    "model.add(top_model)\n",
    "\n",
    "model.summary()"
   ]
  },
  {
   "cell_type": "code",
   "execution_count": 8,
   "metadata": {},
   "outputs": [],
   "source": [
    "# 冻结VGG前4层的参数\n",
    "for need_2_lock_layer in model.layers[0].layers[:-4]:\n",
    "    need_2_lock_layer.trainable = False\n",
    "\n",
    "model.compile(loss='binary_crossentropy', optimizer=optimizers.SGD(lr=1e-4, momentum=0.9), metrics=['accuracy'])"
   ]
  },
  {
   "cell_type": "code",
   "execution_count": 9,
   "metadata": {},
   "outputs": [
    {
     "name": "stdout",
     "output_type": "stream",
     "text": [
      "Found 20000 images belonging to 2 classes.\n",
      "Found 5000 images belonging to 2 classes.\n"
     ]
    }
   ],
   "source": [
    "# prepare data augmentation configuration\n",
    "train_datagen = ImageDataGenerator(\n",
    "        rescale=1./255,\n",
    "        shear_range=0.2,\n",
    "        zoom_range=0.2,\n",
    "        horizontal_flip=True\n",
    ")\n",
    "\n",
    "test_datagen = ImageDataGenerator(rescale=1./255)\n",
    "\n",
    "train_generator = train_datagen.flow_from_directory(\n",
    "#         './local_train/',  # this is the target directory\n",
    "        './train_cls/',\n",
    "        target_size=(224, 224),  # all images will be resized to 150x150\n",
    "        batch_size=128,\n",
    "        class_mode='binary')  # since we use binary_crossentropy loss, we need binary labels\n",
    "\n",
    "validation_generator = test_datagen.flow_from_directory(\n",
    "#         './local_test/',\n",
    "        './test_cls/',\n",
    "        target_size=(224, 224),\n",
    "        batch_size=128,\n",
    "        class_mode='binary')"
   ]
  },
  {
   "cell_type": "code",
   "execution_count": null,
   "metadata": {},
   "outputs": [
    {
     "name": "stdout",
     "output_type": "stream",
     "text": [
      "Epoch 1/5\n",
      "39/40 [============================>.] - ETA: 1s - loss: 0.4146 - acc: 0.8235"
     ]
    }
   ],
   "source": [
    "model.fit_generator(\n",
    "    train_generator,\n",
    "    epochs=5,\n",
    "    validation_data=validation_generator,\n",
    "    validation_steps=1000,\n",
    "    steps_per_epoch=40,\n",
    ")"
   ]
  },
  {
   "cell_type": "code",
   "execution_count": null,
   "metadata": {},
   "outputs": [],
   "source": []
  }
 ],
 "metadata": {
  "kernelspec": {
   "display_name": "Environment (conda_tensorflow_p36)",
   "language": "python",
   "name": "conda_tensorflow_p36"
  },
  "language_info": {
   "codemirror_mode": {
    "name": "ipython",
    "version": 3
   },
   "file_extension": ".py",
   "mimetype": "text/x-python",
   "name": "python",
   "nbconvert_exporter": "python",
   "pygments_lexer": "ipython3",
   "version": "3.6.4"
  }
 },
 "nbformat": 4,
 "nbformat_minor": 2
}
